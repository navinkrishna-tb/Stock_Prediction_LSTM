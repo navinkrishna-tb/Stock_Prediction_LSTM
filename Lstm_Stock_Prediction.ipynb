{
  "nbformat": 4,
  "nbformat_minor": 0,
  "metadata": {
    "colab": {
      "name": "Lstm_Stock_Prediction.ipynb",
      "provenance": [],
      "mount_file_id": "1yG0LP__jwvvEVsp_cVHcjGkJKKkEdwsd",
      "authorship_tag": "ABX9TyMoP7iinZPNjf5kHzlT/7sR",
      "include_colab_link": true
    },
    "kernelspec": {
      "name": "python3",
      "display_name": "Python 3"
    },
    "accelerator": "TPU"
  },
  "cells": [
    {
      "cell_type": "markdown",
      "metadata": {
        "id": "view-in-github",
        "colab_type": "text"
      },
      "source": [
        "<a href=\"https://colab.research.google.com/github/navinkrishna-tb/Stock_Prediction_LSTM/blob/main/Lstm_Stock_Prediction.ipynb\" target=\"_parent\"><img src=\"https://colab.research.google.com/assets/colab-badge.svg\" alt=\"Open In Colab\"/></a>"
      ]
    },
    {
      "cell_type": "markdown",
      "metadata": {
        "id": "yg18b0QwO-dn"
      },
      "source": [
        "# Stock Market Prediction Using LSTM\n"
      ]
    },
    {
      "cell_type": "markdown",
      "metadata": {
        "id": "lbyX3-lcO57A"
      },
      "source": [
        "### Cleaning Dataset For Training\n"
      ]
    },
    {
      "cell_type": "code",
      "metadata": {
        "id": "MMVZrEKVIOBi"
      },
      "source": [
        "import pandas as pd\n",
        "import numpy\n",
        "\n",
        "df = pd.read_csv('/content/drive/MyDrive/stock_apps/dataset/HCLTECH.NS.csv')\n",
        "df.dropna(inplace=True)\n",
        "test_list = df.values\n",
        "res = [float(ele) for ele in test_list] \n",
        "\n",
        "res = numpy.array(res)\n",
        "numpy.savetxt(\"/content/drive/MyDrive/stock_apps/dataset/HCLTECH.NS.csv\", res, delimiter=\",\")"
      ],
      "execution_count": 9,
      "outputs": []
    },
    {
      "cell_type": "markdown",
      "metadata": {
        "id": "VHi4YyGWO456"
      },
      "source": [
        "# Functions For Preprocesssing and Model Definition\n"
      ]
    },
    {
      "cell_type": "code",
      "metadata": {
        "id": "j15qSMp5B_ck"
      },
      "source": [
        "import time\n",
        "import warnings\n",
        "import numpy as np\n",
        "from numpy import newaxis\n",
        "from keras.layers.core import Dense, Activation, Dropout\n",
        "from keras.layers.recurrent import LSTM\n",
        "from keras.models import Sequential\n",
        "import matplotlib.pyplot as plt\n",
        "\n",
        "\n",
        "\n",
        "warnings.filterwarnings(\"ignore\")\n",
        "class lstm:\n",
        "    def plot_results_multiple(predicted_data, true_data, prediction_len):\n",
        "        fig = plt.figure(facecolor='white')\n",
        "        ax = fig.add_subplot(111)\n",
        "        ax.plot(true_data, label='True Data')\n",
        "        print('yo')\n",
        "        #Pad the list of predictions to shift it in the graph to it's correct start\n",
        "        for i, data in enumerate(predicted_data):\n",
        "            padding = [None for p in range(i * prediction_len)]\n",
        "            plt.plot(padding + data, label='Prediction')\n",
        "            plt.legend()\n",
        "        plt.show()\n",
        "\n",
        "    def load_data(filename, seq_len, normalise_window):\n",
        "        f = open(filename, 'r').read()\n",
        "        data = f.split('\\n')\n",
        "\n",
        "        sequence_length = seq_len + 1\n",
        "        result = []\n",
        "        for index in range(len(data) - sequence_length):\n",
        "            result.append(data[index: index + sequence_length])\n",
        "        \n",
        "        if normalise_window:\n",
        "            result = lstm.normalise_windows(result)\n",
        "\n",
        "        result = np.array(result)\n",
        "\n",
        "        row = round(0.9 * result.shape[0])\n",
        "        train = result[:int(row), :]\n",
        "        np.random.shuffle(train)\n",
        "        x_train = train[:, :-1]\n",
        "        y_train = train[:, -1]\n",
        "        x_test = result[int(row):, :-1]\n",
        "        y_test = result[int(row):, -1]\n",
        "\n",
        "        x_train = np.reshape(x_train, (x_train.shape[0], x_train.shape[1], 1))\n",
        "        x_test = np.reshape(x_test, (x_test.shape[0], x_test.shape[1], 1))  \n",
        "\n",
        "        return [x_train, y_train, x_test, y_test]\n",
        "\n",
        "    def normalise_windows(window_data):\n",
        "        normalised_data = []\n",
        "        for window in window_data:\n",
        "            normalised_window = [((float(p) / float(window[0])) - 1) for p in window]\n",
        "            normalised_data.append(normalised_window)\n",
        "        return normalised_data\n",
        "\n",
        "    def build_model():\n",
        "        model=Sequential()\n",
        "        model.add(LSTM(50,return_sequences=True,input_shape=(100,1)))\n",
        "        model.add(LSTM(50,return_sequences=True))\n",
        "        model.add(LSTM(50))\n",
        "        model.add(Dense(1))\n",
        "        start = time.time()\n",
        "        model.compile(loss='mean_squared_error',optimizer='rmsprop')\n",
        "        print('compilation time : ', time.time() - start)\n",
        "        return model\n",
        "\n",
        "    def predict_point_by_point(model, data):\n",
        "        #Predict each timestep given the last sequence of true data, in effect only predicting 1 step ahead each time\n",
        "        predicted = model.predict(data)\n",
        "        predicted = np.reshape(predicted, (predicted.size,))\n",
        "        return predicted\n",
        "\n",
        "    def predict_sequence_full(model, data, window_size):\n",
        "        #Shift the window by 1 new prediction each time, re-run predictions on new window\n",
        "        curr_frame = data[0]\n",
        "        predicted = []\n",
        "        for i in range(len(data)):\n",
        "            predicted.append(model.predict(curr_frame[newaxis,:,:])[0,0])\n",
        "            curr_frame = curr_frame[1:]\n",
        "            curr_frame = np.insert(curr_frame, [window_size-1], predicted[-1], axis=0)\n",
        "        return predicted\n",
        "\n",
        "    def predict_sequences_multiple(model, data, window_size, prediction_len):\n",
        "        #Predict sequence of 50 steps before shifting prediction run forward by 50 steps\n",
        "        prediction_seqs = []\n",
        "        for i in range(int(np.floor(len(data)/prediction_len))):\n",
        "            curr_frame = data[i*prediction_len]\n",
        "            predicted = []\n",
        "            for j in range(prediction_len):\n",
        "                predicted.append(model.predict(curr_frame[newaxis,:,:])[0,0])\n",
        "                curr_frame = curr_frame[1:]\n",
        "                curr_frame = np.insert(curr_frame, [window_size-1], predicted[-1], axis=0)\n",
        "            prediction_seqs.append(predicted)\n",
        "        return prediction_seqs"
      ],
      "execution_count": 10,
      "outputs": []
    },
    {
      "cell_type": "markdown",
      "metadata": {
        "id": "fo14qjOkTvtF"
      },
      "source": [
        "### Loading Dataset For Training"
      ]
    },
    {
      "cell_type": "code",
      "metadata": {
        "id": "H0YdkVUDDYh5"
      },
      "source": [
        "X_train, y_train, X_test, y_test = lstm.load_data('/content/drive/MyDrive/stock_apps/dataset/HCLTECH.NS.csv', 50, True)"
      ],
      "execution_count": 12,
      "outputs": []
    },
    {
      "cell_type": "markdown",
      "metadata": {
        "id": "cJKAybP_T31m"
      },
      "source": [
        "### Building Model"
      ]
    },
    {
      "cell_type": "code",
      "metadata": {
        "id": "HpXdUVupTz-g"
      },
      "source": [
        "from keras.layers.core import Dense, Activation, Dropout\n",
        "from keras.layers.recurrent import LSTM\n",
        "from keras.models import Sequential\n",
        "import time"
      ],
      "execution_count": null,
      "outputs": []
    },
    {
      "cell_type": "code",
      "metadata": {
        "colab": {
          "base_uri": "https://localhost:8080/"
        },
        "id": "BeGIVh1uPUcy",
        "outputId": "3afb76c6-fcdb-4d89-c9e9-27e14002195d"
      },
      "source": [
        "model = lstm.build_model()"
      ],
      "execution_count": 14,
      "outputs": [
        {
          "output_type": "stream",
          "text": [
            "compilation time :  0.006511211395263672\n"
          ],
          "name": "stdout"
        }
      ]
    },
    {
      "cell_type": "markdown",
      "metadata": {
        "id": "Wot8nq-gUcp7"
      },
      "source": [
        "### Training Model"
      ]
    },
    {
      "cell_type": "code",
      "metadata": {
        "colab": {
          "base_uri": "https://localhost:8080/"
        },
        "id": "7xvtJgOJF3er",
        "outputId": "9ca675e9-ff71-4e05-d56e-e8a4377cf806"
      },
      "source": [
        "#Step 3 Train the model\n",
        "model.fit(\n",
        "    X_train,\n",
        "    y_train,\n",
        "    batch_size=512,\n",
        "    epochs=50,\n",
        "    validation_split=0.05)"
      ],
      "execution_count": 17,
      "outputs": [
        {
          "output_type": "stream",
          "text": [
            "Epoch 1/50\n",
            "2/2 [==============================] - 0s 236ms/step - loss: 0.0029 - val_loss: 0.0031\n",
            "Epoch 2/50\n",
            "2/2 [==============================] - 0s 236ms/step - loss: 0.0025 - val_loss: 0.0031\n",
            "Epoch 3/50\n",
            "2/2 [==============================] - 0s 228ms/step - loss: 0.0022 - val_loss: 0.0027\n",
            "Epoch 4/50\n",
            "2/2 [==============================] - 0s 229ms/step - loss: 0.0021 - val_loss: 0.0026\n",
            "Epoch 5/50\n",
            "2/2 [==============================] - 0s 232ms/step - loss: 0.0019 - val_loss: 0.0024\n",
            "Epoch 6/50\n",
            "2/2 [==============================] - 0s 233ms/step - loss: 0.0020 - val_loss: 0.0024\n",
            "Epoch 7/50\n",
            "2/2 [==============================] - 0s 231ms/step - loss: 0.0021 - val_loss: 0.0022\n",
            "Epoch 8/50\n",
            "2/2 [==============================] - 0s 229ms/step - loss: 0.0017 - val_loss: 0.0019\n",
            "Epoch 9/50\n",
            "2/2 [==============================] - 0s 238ms/step - loss: 0.0016 - val_loss: 0.0019\n",
            "Epoch 10/50\n",
            "2/2 [==============================] - 0s 229ms/step - loss: 0.0015 - val_loss: 0.0017\n",
            "Epoch 11/50\n",
            "2/2 [==============================] - 0s 233ms/step - loss: 0.0015 - val_loss: 0.0025\n",
            "Epoch 12/50\n",
            "2/2 [==============================] - 0s 231ms/step - loss: 0.0017 - val_loss: 0.0018\n",
            "Epoch 13/50\n",
            "2/2 [==============================] - 0s 235ms/step - loss: 0.0015 - val_loss: 0.0016\n",
            "Epoch 14/50\n",
            "2/2 [==============================] - 0s 232ms/step - loss: 0.0015 - val_loss: 0.0017\n",
            "Epoch 15/50\n",
            "2/2 [==============================] - 0s 239ms/step - loss: 0.0017 - val_loss: 0.0015\n",
            "Epoch 16/50\n",
            "2/2 [==============================] - 0s 237ms/step - loss: 0.0014 - val_loss: 0.0015\n",
            "Epoch 17/50\n",
            "2/2 [==============================] - 0s 234ms/step - loss: 0.0013 - val_loss: 0.0015\n",
            "Epoch 18/50\n",
            "2/2 [==============================] - 0s 233ms/step - loss: 0.0014 - val_loss: 0.0015\n",
            "Epoch 19/50\n",
            "2/2 [==============================] - 0s 232ms/step - loss: 0.0014 - val_loss: 0.0014\n",
            "Epoch 20/50\n",
            "2/2 [==============================] - 0s 234ms/step - loss: 0.0012 - val_loss: 0.0013\n",
            "Epoch 21/50\n",
            "2/2 [==============================] - 0s 230ms/step - loss: 0.0012 - val_loss: 0.0014\n",
            "Epoch 22/50\n",
            "2/2 [==============================] - 0s 231ms/step - loss: 0.0013 - val_loss: 0.0014\n",
            "Epoch 23/50\n",
            "2/2 [==============================] - 0s 242ms/step - loss: 0.0012 - val_loss: 0.0014\n",
            "Epoch 24/50\n",
            "2/2 [==============================] - 0s 234ms/step - loss: 0.0011 - val_loss: 0.0016\n",
            "Epoch 25/50\n",
            "2/2 [==============================] - 0s 238ms/step - loss: 0.0013 - val_loss: 0.0017\n",
            "Epoch 26/50\n",
            "2/2 [==============================] - 0s 235ms/step - loss: 0.0012 - val_loss: 0.0013\n",
            "Epoch 27/50\n",
            "2/2 [==============================] - 0s 229ms/step - loss: 0.0010 - val_loss: 0.0013\n",
            "Epoch 28/50\n",
            "2/2 [==============================] - 0s 234ms/step - loss: 0.0011 - val_loss: 0.0014\n",
            "Epoch 29/50\n",
            "2/2 [==============================] - 0s 234ms/step - loss: 0.0012 - val_loss: 0.0014\n",
            "Epoch 30/50\n",
            "2/2 [==============================] - 0s 234ms/step - loss: 0.0011 - val_loss: 0.0014\n",
            "Epoch 31/50\n",
            "2/2 [==============================] - 0s 236ms/step - loss: 0.0010 - val_loss: 0.0013\n",
            "Epoch 32/50\n",
            "2/2 [==============================] - 0s 236ms/step - loss: 0.0010 - val_loss: 0.0013\n",
            "Epoch 33/50\n",
            "2/2 [==============================] - 0s 236ms/step - loss: 0.0010 - val_loss: 0.0013\n",
            "Epoch 34/50\n",
            "2/2 [==============================] - 0s 236ms/step - loss: 8.9368e-04 - val_loss: 0.0011\n",
            "Epoch 35/50\n",
            "2/2 [==============================] - 0s 240ms/step - loss: 8.8466e-04 - val_loss: 0.0017\n",
            "Epoch 36/50\n",
            "2/2 [==============================] - 0s 237ms/step - loss: 0.0013 - val_loss: 0.0014\n",
            "Epoch 37/50\n",
            "2/2 [==============================] - 0s 232ms/step - loss: 0.0010 - val_loss: 0.0013\n",
            "Epoch 38/50\n",
            "2/2 [==============================] - 0s 234ms/step - loss: 9.7234e-04 - val_loss: 0.0014\n",
            "Epoch 39/50\n",
            "2/2 [==============================] - 0s 233ms/step - loss: 9.9423e-04 - val_loss: 0.0013\n",
            "Epoch 40/50\n",
            "2/2 [==============================] - 0s 233ms/step - loss: 8.8294e-04 - val_loss: 0.0012\n",
            "Epoch 41/50\n",
            "2/2 [==============================] - 0s 236ms/step - loss: 8.2362e-04 - val_loss: 0.0012\n",
            "Epoch 42/50\n",
            "2/2 [==============================] - 0s 235ms/step - loss: 8.5387e-04 - val_loss: 0.0012\n",
            "Epoch 43/50\n",
            "2/2 [==============================] - 1s 255ms/step - loss: 8.9280e-04 - val_loss: 0.0012\n",
            "Epoch 44/50\n",
            "2/2 [==============================] - 0s 232ms/step - loss: 8.2816e-04 - val_loss: 0.0011\n",
            "Epoch 45/50\n",
            "2/2 [==============================] - 0s 237ms/step - loss: 8.4703e-04 - val_loss: 0.0014\n",
            "Epoch 46/50\n",
            "2/2 [==============================] - 0s 236ms/step - loss: 8.5899e-04 - val_loss: 0.0012\n",
            "Epoch 47/50\n",
            "2/2 [==============================] - 0s 237ms/step - loss: 8.6225e-04 - val_loss: 0.0015\n",
            "Epoch 48/50\n",
            "2/2 [==============================] - 0s 231ms/step - loss: 0.0010 - val_loss: 0.0014\n",
            "Epoch 49/50\n",
            "2/2 [==============================] - 0s 239ms/step - loss: 8.7922e-04 - val_loss: 0.0014\n",
            "Epoch 50/50\n",
            "2/2 [==============================] - 0s 237ms/step - loss: 8.4980e-04 - val_loss: 0.0012\n"
          ],
          "name": "stdout"
        },
        {
          "output_type": "execute_result",
          "data": {
            "text/plain": [
              "<tensorflow.python.keras.callbacks.History at 0x7fc633555f28>"
            ]
          },
          "metadata": {
            "tags": []
          },
          "execution_count": 17
        }
      ]
    },
    {
      "cell_type": "markdown",
      "metadata": {
        "id": "N0UPESUrUku4"
      },
      "source": [
        "### Visualizing the Predictions"
      ]
    },
    {
      "cell_type": "code",
      "metadata": {
        "colab": {
          "base_uri": "https://localhost:8080/",
          "height": 282
        },
        "id": "88hTlitSK98D",
        "outputId": "fc958c71-c5c4-455a-ab64-db57a20a7baa"
      },
      "source": [
        "\n",
        "#Step 4 - Plot the predictions!\n",
        "from datetime import date\n",
        "\n",
        "predictions = lstm.predict_sequences_multiple(model, X_test, 50, 50)\n",
        "lstm.plot_results_multiple(predictions, y_test, 50)\n"
      ],
      "execution_count": 18,
      "outputs": [
        {
          "output_type": "stream",
          "text": [
            "yo\n"
          ],
          "name": "stdout"
        },
        {
          "output_type": "display_data",
          "data": {
            "image/png": "[encoded data removed]",
            "text/plain": [
              "<Figure size 432x288 with 1 Axes>"
            ]
          },
          "metadata": {
            "tags": []
          }
        }
      ]
    }
  ]
}